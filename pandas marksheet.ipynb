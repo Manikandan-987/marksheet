{
 "cells": [
  {
   "cell_type": "code",
   "execution_count": 1,
   "id": "a0f605e8-e0d2-477e-84b4-3b85a98ea1c1",
   "metadata": {},
   "outputs": [],
   "source": [
    "import pandas as pd"
   ]
  },
  {
   "cell_type": "code",
   "execution_count": 2,
   "id": "58354dea-2d17-4347-9277-0acf448c5c49",
   "metadata": {},
   "outputs": [],
   "source": [
    "df = pd.read_csv(\"mark_sheet_dataset.csv\")"
   ]
  },
  {
   "cell_type": "code",
   "execution_count": 3,
   "id": "a9d7c46e-2528-4491-999f-90ae157b81f1",
   "metadata": {},
   "outputs": [
    {
     "data": {
      "text/html": [
       "<div>\n",
       "<style scoped>\n",
       "    .dataframe tbody tr th:only-of-type {\n",
       "        vertical-align: middle;\n",
       "    }\n",
       "\n",
       "    .dataframe tbody tr th {\n",
       "        vertical-align: top;\n",
       "    }\n",
       "\n",
       "    .dataframe thead th {\n",
       "        text-align: right;\n",
       "    }\n",
       "</style>\n",
       "<table border=\"1\" class=\"dataframe\">\n",
       "  <thead>\n",
       "    <tr style=\"text-align: right;\">\n",
       "      <th></th>\n",
       "      <th>Student_ID</th>\n",
       "      <th>Gender</th>\n",
       "      <th>Math_Score</th>\n",
       "      <th>English_Score</th>\n",
       "      <th>Science_Score</th>\n",
       "      <th>Attendance</th>\n",
       "    </tr>\n",
       "  </thead>\n",
       "  <tbody>\n",
       "    <tr>\n",
       "      <th>0</th>\n",
       "      <td>S1001</td>\n",
       "      <td>Female</td>\n",
       "      <td>79.967142</td>\n",
       "      <td>86.792265</td>\n",
       "      <td>72.598574</td>\n",
       "      <td>75.460962</td>\n",
       "    </tr>\n",
       "    <tr>\n",
       "      <th>1</th>\n",
       "      <td>S1002</td>\n",
       "      <td>Male</td>\n",
       "      <td>73.617357</td>\n",
       "      <td>81.095604</td>\n",
       "      <td>76.843851</td>\n",
       "      <td>80.698075</td>\n",
       "    </tr>\n",
       "    <tr>\n",
       "      <th>2</th>\n",
       "      <td>S1003</td>\n",
       "      <td>Female</td>\n",
       "      <td>81.476885</td>\n",
       "      <td>70.715564</td>\n",
       "      <td>71.660641</td>\n",
       "      <td>82.931972</td>\n",
       "    </tr>\n",
       "    <tr>\n",
       "      <th>3</th>\n",
       "      <td>S1004</td>\n",
       "      <td>Female</td>\n",
       "      <td>90.230299</td>\n",
       "      <td>62.236759</td>\n",
       "      <td>75.536308</td>\n",
       "      <td>94.438438</td>\n",
       "    </tr>\n",
       "    <tr>\n",
       "      <th>4</th>\n",
       "      <td>S1005</td>\n",
       "      <td>Female</td>\n",
       "      <td>72.658466</td>\n",
       "      <td>78.378680</td>\n",
       "      <td>62.851083</td>\n",
       "      <td>87.782766</td>\n",
       "    </tr>\n",
       "    <tr>\n",
       "      <th>...</th>\n",
       "      <td>...</td>\n",
       "      <td>...</td>\n",
       "      <td>...</td>\n",
       "      <td>...</td>\n",
       "      <td>...</td>\n",
       "      <td>...</td>\n",
       "    </tr>\n",
       "    <tr>\n",
       "      <th>1000</th>\n",
       "      <td>S2001</td>\n",
       "      <td>Male</td>\n",
       "      <td>30.000000</td>\n",
       "      <td>20.000000</td>\n",
       "      <td>25.000000</td>\n",
       "      <td>40.000000</td>\n",
       "    </tr>\n",
       "    <tr>\n",
       "      <th>1001</th>\n",
       "      <td>S2002</td>\n",
       "      <td>Male</td>\n",
       "      <td>135.000000</td>\n",
       "      <td>125.000000</td>\n",
       "      <td>120.000000</td>\n",
       "      <td>100.000000</td>\n",
       "    </tr>\n",
       "    <tr>\n",
       "      <th>1002</th>\n",
       "      <td>S1001</td>\n",
       "      <td>Female</td>\n",
       "      <td>79.967142</td>\n",
       "      <td>86.792265</td>\n",
       "      <td>72.598574</td>\n",
       "      <td>75.460962</td>\n",
       "    </tr>\n",
       "    <tr>\n",
       "      <th>1003</th>\n",
       "      <td>S1002</td>\n",
       "      <td>Male</td>\n",
       "      <td>73.617357</td>\n",
       "      <td>81.095604</td>\n",
       "      <td>76.843851</td>\n",
       "      <td>80.698075</td>\n",
       "    </tr>\n",
       "    <tr>\n",
       "      <th>1004</th>\n",
       "      <td>S1003</td>\n",
       "      <td>Female</td>\n",
       "      <td>81.476885</td>\n",
       "      <td>70.715564</td>\n",
       "      <td>71.660641</td>\n",
       "      <td>82.931972</td>\n",
       "    </tr>\n",
       "  </tbody>\n",
       "</table>\n",
       "<p>1005 rows × 6 columns</p>\n",
       "</div>"
      ],
      "text/plain": [
       "     Student_ID  Gender  Math_Score  English_Score  Science_Score  Attendance\n",
       "0         S1001  Female   79.967142      86.792265      72.598574   75.460962\n",
       "1         S1002    Male   73.617357      81.095604      76.843851   80.698075\n",
       "2         S1003  Female   81.476885      70.715564      71.660641   82.931972\n",
       "3         S1004  Female   90.230299      62.236759      75.536308   94.438438\n",
       "4         S1005  Female   72.658466      78.378680      62.851083   87.782766\n",
       "...         ...     ...         ...            ...            ...         ...\n",
       "1000      S2001    Male   30.000000      20.000000      25.000000   40.000000\n",
       "1001      S2002    Male  135.000000     125.000000     120.000000  100.000000\n",
       "1002      S1001  Female   79.967142      86.792265      72.598574   75.460962\n",
       "1003      S1002    Male   73.617357      81.095604      76.843851   80.698075\n",
       "1004      S1003  Female   81.476885      70.715564      71.660641   82.931972\n",
       "\n",
       "[1005 rows x 6 columns]"
      ]
     },
     "execution_count": 3,
     "metadata": {},
     "output_type": "execute_result"
    }
   ],
   "source": [
    "df"
   ]
  },
  {
   "cell_type": "code",
   "execution_count": 4,
   "id": "1afd0a9d-c228-432a-a1b0-25457b4d77d7",
   "metadata": {},
   "outputs": [
    {
     "data": {
      "text/html": [
       "<div>\n",
       "<style scoped>\n",
       "    .dataframe tbody tr th:only-of-type {\n",
       "        vertical-align: middle;\n",
       "    }\n",
       "\n",
       "    .dataframe tbody tr th {\n",
       "        vertical-align: top;\n",
       "    }\n",
       "\n",
       "    .dataframe thead th {\n",
       "        text-align: right;\n",
       "    }\n",
       "</style>\n",
       "<table border=\"1\" class=\"dataframe\">\n",
       "  <thead>\n",
       "    <tr style=\"text-align: right;\">\n",
       "      <th></th>\n",
       "      <th>Student_ID</th>\n",
       "      <th>Gender</th>\n",
       "      <th>Math_Score</th>\n",
       "      <th>English_Score</th>\n",
       "      <th>Science_Score</th>\n",
       "      <th>Attendance</th>\n",
       "    </tr>\n",
       "  </thead>\n",
       "  <tbody>\n",
       "    <tr>\n",
       "      <th>0</th>\n",
       "      <td>S1001</td>\n",
       "      <td>Female</td>\n",
       "      <td>79.967142</td>\n",
       "      <td>86.792265</td>\n",
       "      <td>72.598574</td>\n",
       "      <td>75.460962</td>\n",
       "    </tr>\n",
       "    <tr>\n",
       "      <th>1</th>\n",
       "      <td>S1002</td>\n",
       "      <td>Male</td>\n",
       "      <td>73.617357</td>\n",
       "      <td>81.095604</td>\n",
       "      <td>76.843851</td>\n",
       "      <td>80.698075</td>\n",
       "    </tr>\n",
       "    <tr>\n",
       "      <th>2</th>\n",
       "      <td>S1003</td>\n",
       "      <td>Female</td>\n",
       "      <td>81.476885</td>\n",
       "      <td>70.715564</td>\n",
       "      <td>71.660641</td>\n",
       "      <td>82.931972</td>\n",
       "    </tr>\n",
       "    <tr>\n",
       "      <th>3</th>\n",
       "      <td>S1004</td>\n",
       "      <td>Female</td>\n",
       "      <td>90.230299</td>\n",
       "      <td>62.236759</td>\n",
       "      <td>75.536308</td>\n",
       "      <td>94.438438</td>\n",
       "    </tr>\n",
       "    <tr>\n",
       "      <th>4</th>\n",
       "      <td>S1005</td>\n",
       "      <td>Female</td>\n",
       "      <td>72.658466</td>\n",
       "      <td>78.378680</td>\n",
       "      <td>62.851083</td>\n",
       "      <td>87.782766</td>\n",
       "    </tr>\n",
       "  </tbody>\n",
       "</table>\n",
       "</div>"
      ],
      "text/plain": [
       "  Student_ID  Gender  Math_Score  English_Score  Science_Score  Attendance\n",
       "0      S1001  Female   79.967142      86.792265      72.598574   75.460962\n",
       "1      S1002    Male   73.617357      81.095604      76.843851   80.698075\n",
       "2      S1003  Female   81.476885      70.715564      71.660641   82.931972\n",
       "3      S1004  Female   90.230299      62.236759      75.536308   94.438438\n",
       "4      S1005  Female   72.658466      78.378680      62.851083   87.782766"
      ]
     },
     "execution_count": 4,
     "metadata": {},
     "output_type": "execute_result"
    }
   ],
   "source": [
    "df.head()"
   ]
  },
  {
   "cell_type": "code",
   "execution_count": 5,
   "id": "5ccbcba7-370a-44b2-9309-a168ea073f72",
   "metadata": {},
   "outputs": [
    {
     "data": {
      "text/html": [
       "<div>\n",
       "<style scoped>\n",
       "    .dataframe tbody tr th:only-of-type {\n",
       "        vertical-align: middle;\n",
       "    }\n",
       "\n",
       "    .dataframe tbody tr th {\n",
       "        vertical-align: top;\n",
       "    }\n",
       "\n",
       "    .dataframe thead th {\n",
       "        text-align: right;\n",
       "    }\n",
       "</style>\n",
       "<table border=\"1\" class=\"dataframe\">\n",
       "  <thead>\n",
       "    <tr style=\"text-align: right;\">\n",
       "      <th></th>\n",
       "      <th>Student_ID</th>\n",
       "      <th>Gender</th>\n",
       "      <th>Math_Score</th>\n",
       "      <th>English_Score</th>\n",
       "      <th>Science_Score</th>\n",
       "      <th>Attendance</th>\n",
       "    </tr>\n",
       "  </thead>\n",
       "  <tbody>\n",
       "    <tr>\n",
       "      <th>1000</th>\n",
       "      <td>S2001</td>\n",
       "      <td>Male</td>\n",
       "      <td>30.000000</td>\n",
       "      <td>20.000000</td>\n",
       "      <td>25.000000</td>\n",
       "      <td>40.000000</td>\n",
       "    </tr>\n",
       "    <tr>\n",
       "      <th>1001</th>\n",
       "      <td>S2002</td>\n",
       "      <td>Male</td>\n",
       "      <td>135.000000</td>\n",
       "      <td>125.000000</td>\n",
       "      <td>120.000000</td>\n",
       "      <td>100.000000</td>\n",
       "    </tr>\n",
       "    <tr>\n",
       "      <th>1002</th>\n",
       "      <td>S1001</td>\n",
       "      <td>Female</td>\n",
       "      <td>79.967142</td>\n",
       "      <td>86.792265</td>\n",
       "      <td>72.598574</td>\n",
       "      <td>75.460962</td>\n",
       "    </tr>\n",
       "    <tr>\n",
       "      <th>1003</th>\n",
       "      <td>S1002</td>\n",
       "      <td>Male</td>\n",
       "      <td>73.617357</td>\n",
       "      <td>81.095604</td>\n",
       "      <td>76.843851</td>\n",
       "      <td>80.698075</td>\n",
       "    </tr>\n",
       "    <tr>\n",
       "      <th>1004</th>\n",
       "      <td>S1003</td>\n",
       "      <td>Female</td>\n",
       "      <td>81.476885</td>\n",
       "      <td>70.715564</td>\n",
       "      <td>71.660641</td>\n",
       "      <td>82.931972</td>\n",
       "    </tr>\n",
       "  </tbody>\n",
       "</table>\n",
       "</div>"
      ],
      "text/plain": [
       "     Student_ID  Gender  Math_Score  English_Score  Science_Score  Attendance\n",
       "1000      S2001    Male   30.000000      20.000000      25.000000   40.000000\n",
       "1001      S2002    Male  135.000000     125.000000     120.000000  100.000000\n",
       "1002      S1001  Female   79.967142      86.792265      72.598574   75.460962\n",
       "1003      S1002    Male   73.617357      81.095604      76.843851   80.698075\n",
       "1004      S1003  Female   81.476885      70.715564      71.660641   82.931972"
      ]
     },
     "execution_count": 5,
     "metadata": {},
     "output_type": "execute_result"
    }
   ],
   "source": [
    "df.tail()"
   ]
  },
  {
   "cell_type": "code",
   "execution_count": 6,
   "id": "ca68f98d-9d68-491d-a3cf-2a41bad00e1c",
   "metadata": {},
   "outputs": [
    {
     "data": {
      "text/html": [
       "<div>\n",
       "<style scoped>\n",
       "    .dataframe tbody tr th:only-of-type {\n",
       "        vertical-align: middle;\n",
       "    }\n",
       "\n",
       "    .dataframe tbody tr th {\n",
       "        vertical-align: top;\n",
       "    }\n",
       "\n",
       "    .dataframe thead th {\n",
       "        text-align: right;\n",
       "    }\n",
       "</style>\n",
       "<table border=\"1\" class=\"dataframe\">\n",
       "  <thead>\n",
       "    <tr style=\"text-align: right;\">\n",
       "      <th></th>\n",
       "      <th>Math_Score</th>\n",
       "      <th>English_Score</th>\n",
       "      <th>Science_Score</th>\n",
       "      <th>Attendance</th>\n",
       "    </tr>\n",
       "  </thead>\n",
       "  <tbody>\n",
       "    <tr>\n",
       "      <th>count</th>\n",
       "      <td>1004.000000</td>\n",
       "      <td>1004.000000</td>\n",
       "      <td>1004.000000</td>\n",
       "      <td>1004.000000</td>\n",
       "    </tr>\n",
       "    <tr>\n",
       "      <th>mean</th>\n",
       "      <td>75.219844</td>\n",
       "      <td>70.877752</td>\n",
       "      <td>78.021221</td>\n",
       "      <td>84.858825</td>\n",
       "    </tr>\n",
       "    <tr>\n",
       "      <th>std</th>\n",
       "      <td>10.058027</td>\n",
       "      <td>12.188226</td>\n",
       "      <td>8.141387</td>\n",
       "      <td>5.348865</td>\n",
       "    </tr>\n",
       "    <tr>\n",
       "      <th>min</th>\n",
       "      <td>30.000000</td>\n",
       "      <td>20.000000</td>\n",
       "      <td>25.000000</td>\n",
       "      <td>40.000000</td>\n",
       "    </tr>\n",
       "    <tr>\n",
       "      <th>25%</th>\n",
       "      <td>68.524097</td>\n",
       "      <td>62.725100</td>\n",
       "      <td>72.801361</td>\n",
       "      <td>81.233628</td>\n",
       "    </tr>\n",
       "    <tr>\n",
       "      <th>50%</th>\n",
       "      <td>75.264884</td>\n",
       "      <td>70.756926</td>\n",
       "      <td>77.951531</td>\n",
       "      <td>84.976378</td>\n",
       "    </tr>\n",
       "    <tr>\n",
       "      <th>75%</th>\n",
       "      <td>81.479439</td>\n",
       "      <td>78.824432</td>\n",
       "      <td>83.287323</td>\n",
       "      <td>88.334727</td>\n",
       "    </tr>\n",
       "    <tr>\n",
       "      <th>max</th>\n",
       "      <td>135.000000</td>\n",
       "      <td>125.000000</td>\n",
       "      <td>120.000000</td>\n",
       "      <td>101.215465</td>\n",
       "    </tr>\n",
       "  </tbody>\n",
       "</table>\n",
       "</div>"
      ],
      "text/plain": [
       "        Math_Score  English_Score  Science_Score   Attendance\n",
       "count  1004.000000    1004.000000    1004.000000  1004.000000\n",
       "mean     75.219844      70.877752      78.021221    84.858825\n",
       "std      10.058027      12.188226       8.141387     5.348865\n",
       "min      30.000000      20.000000      25.000000    40.000000\n",
       "25%      68.524097      62.725100      72.801361    81.233628\n",
       "50%      75.264884      70.756926      77.951531    84.976378\n",
       "75%      81.479439      78.824432      83.287323    88.334727\n",
       "max     135.000000     125.000000     120.000000   101.215465"
      ]
     },
     "execution_count": 6,
     "metadata": {},
     "output_type": "execute_result"
    }
   ],
   "source": [
    "df.describe()\n"
   ]
  },
  {
   "cell_type": "code",
   "execution_count": 7,
   "id": "97c3a61a-781c-4eb6-954d-67140881a82a",
   "metadata": {},
   "outputs": [
    {
     "name": "stdout",
     "output_type": "stream",
     "text": [
      "<class 'pandas.core.frame.DataFrame'>\n",
      "RangeIndex: 1005 entries, 0 to 1004\n",
      "Data columns (total 6 columns):\n",
      " #   Column         Non-Null Count  Dtype  \n",
      "---  ------         --------------  -----  \n",
      " 0   Student_ID     1005 non-null   object \n",
      " 1   Gender         1005 non-null   object \n",
      " 2   Math_Score     1004 non-null   float64\n",
      " 3   English_Score  1004 non-null   float64\n",
      " 4   Science_Score  1004 non-null   float64\n",
      " 5   Attendance     1004 non-null   float64\n",
      "dtypes: float64(4), object(2)\n",
      "memory usage: 47.2+ KB\n"
     ]
    }
   ],
   "source": [
    "df.info()"
   ]
  },
  {
   "cell_type": "code",
   "execution_count": 10,
   "id": "b46abfba-84ad-4068-8e54-36d61278820a",
   "metadata": {},
   "outputs": [
    {
     "data": {
      "text/plain": [
       "Index(['Student_ID', 'Gender', 'Math_Score', 'English_Score', 'Science_Score',\n",
       "       'Attendance'],\n",
       "      dtype='object')"
      ]
     },
     "execution_count": 10,
     "metadata": {},
     "output_type": "execute_result"
    }
   ],
   "source": [
    "df.columns\n"
   ]
  },
  {
   "cell_type": "code",
   "execution_count": 11,
   "id": "0379daaf-c343-412c-b828-cea3445f127b",
   "metadata": {},
   "outputs": [
    {
     "data": {
      "text/plain": [
       "Student_ID       0\n",
       "Gender           0\n",
       "Math_Score       1\n",
       "English_Score    1\n",
       "Science_Score    1\n",
       "Attendance       1\n",
       "dtype: int64"
      ]
     },
     "execution_count": 11,
     "metadata": {},
     "output_type": "execute_result"
    }
   ],
   "source": [
    "df.isnull().sum()"
   ]
  },
  {
   "cell_type": "code",
   "execution_count": 12,
   "id": "10a4cbcc-2949-46fa-930a-e029b5321d2c",
   "metadata": {},
   "outputs": [
    {
     "data": {
      "text/plain": [
       "(1005, 6)"
      ]
     },
     "execution_count": 12,
     "metadata": {},
     "output_type": "execute_result"
    }
   ],
   "source": [
    "df.shape"
   ]
  },
  {
   "cell_type": "code",
   "execution_count": 13,
   "id": "9a478b9a-cf69-4852-abaa-c722d76f5914",
   "metadata": {},
   "outputs": [],
   "source": [
    "df['Math_Score'] = df['Math_Score'].fillna(df['Math_Score'].median())"
   ]
  },
  {
   "cell_type": "code",
   "execution_count": 14,
   "id": "cba44487-3cb8-4e55-beed-08f3c4d88d9c",
   "metadata": {},
   "outputs": [
    {
     "data": {
      "text/plain": [
       "Student_ID       0\n",
       "Gender           0\n",
       "Math_Score       0\n",
       "English_Score    1\n",
       "Science_Score    1\n",
       "Attendance       1\n",
       "dtype: int64"
      ]
     },
     "execution_count": 14,
     "metadata": {},
     "output_type": "execute_result"
    }
   ],
   "source": [
    "df.isnull().sum()"
   ]
  },
  {
   "cell_type": "code",
   "execution_count": 15,
   "id": "4a7ca718-28b3-4b48-a1c7-ba86b2469a33",
   "metadata": {},
   "outputs": [],
   "source": [
    "df['English_Score'] = df['English_Score'].fillna(df['English_Score'].median())"
   ]
  },
  {
   "cell_type": "code",
   "execution_count": 16,
   "id": "6289c269-3f02-4ff7-94ef-f89597d70489",
   "metadata": {},
   "outputs": [
    {
     "data": {
      "text/plain": [
       "Student_ID       0\n",
       "Gender           0\n",
       "Math_Score       0\n",
       "English_Score    0\n",
       "Science_Score    1\n",
       "Attendance       1\n",
       "dtype: int64"
      ]
     },
     "execution_count": 16,
     "metadata": {},
     "output_type": "execute_result"
    }
   ],
   "source": [
    "df.isnull().sum()"
   ]
  },
  {
   "cell_type": "code",
   "execution_count": 17,
   "id": "befbe015-a95f-4a41-88b4-40c7be70e6d1",
   "metadata": {},
   "outputs": [],
   "source": [
    "df['Science_Score'] = df['Science_Score'].fillna(df['Science_Score'].median())"
   ]
  },
  {
   "cell_type": "code",
   "execution_count": 18,
   "id": "5c9006a0-e36e-476e-8b77-775fd58e8432",
   "metadata": {},
   "outputs": [
    {
     "data": {
      "text/plain": [
       "Student_ID       0\n",
       "Gender           0\n",
       "Math_Score       0\n",
       "English_Score    0\n",
       "Science_Score    0\n",
       "Attendance       1\n",
       "dtype: int64"
      ]
     },
     "execution_count": 18,
     "metadata": {},
     "output_type": "execute_result"
    }
   ],
   "source": [
    "df.isnull().sum()"
   ]
  },
  {
   "cell_type": "code",
   "execution_count": 19,
   "id": "6857a034-0690-4cd9-bb27-d5908bb911b0",
   "metadata": {},
   "outputs": [],
   "source": [
    "df['Attendance'] = df['Attendance'].fillna(df['Attendance'].median())"
   ]
  },
  {
   "cell_type": "code",
   "execution_count": 20,
   "id": "81530562-f4c4-4da8-b88f-b2bd682be26c",
   "metadata": {},
   "outputs": [
    {
     "data": {
      "text/plain": [
       "Student_ID       0\n",
       "Gender           0\n",
       "Math_Score       0\n",
       "English_Score    0\n",
       "Science_Score    0\n",
       "Attendance       0\n",
       "dtype: int64"
      ]
     },
     "execution_count": 20,
     "metadata": {},
     "output_type": "execute_result"
    }
   ],
   "source": [
    "df.isnull().sum()"
   ]
  },
  {
   "cell_type": "code",
   "execution_count": 21,
   "id": "9e5d8dd5-2fc3-4f0d-a175-db32526d7107",
   "metadata": {},
   "outputs": [],
   "source": [
    "import matplotlib.pyplot as plt\n",
    "import seaborn as sns"
   ]
  },
  {
   "cell_type": "code",
   "execution_count": 22,
   "id": "74cb377a-3ec9-42da-987a-88fdec2388e1",
   "metadata": {},
   "outputs": [],
   "source": [
    "numeric_cols=df.select_dtypes(include=\"number\").columns"
   ]
  },
  {
   "cell_type": "code",
   "execution_count": 23,
   "id": "e7685028-e804-43ab-ab53-edfb473b619c",
   "metadata": {},
   "outputs": [
    {
     "data": {
      "text/plain": [
       "Text(0.5, 1.0, 'MATH SCORE')"
      ]
     },
     "execution_count": 23,
     "metadata": {},
     "output_type": "execute_result"
    },
    {
     "data": {
      "image/png": "[encoded data removed]",
      "text/plain": [
       "<Figure size 640x480 with 1 Axes>"
      ]
     },
     "metadata": {},
     "output_type": "display_data"
    }
   ],
   "source": [
    "sns.histplot(df['Math_Score'],bins=20,kde=True,color=\"green\")#it is normal distribution so no qunatlires\n",
    "plt.title(\"MATH SCORE\")"
   ]
  },
  {
   "cell_type": "code",
   "execution_count": 24,
   "id": "f08f3e68-a41a-4b04-8fc6-9b15f894d024",
   "metadata": {},
   "outputs": [
    {
     "data": {
      "text/plain": [
       "<Axes: xlabel='English_Score', ylabel='Count'>"
      ]
     },
     "execution_count": 24,
     "metadata": {},
     "output_type": "execute_result"
    },
    {
     "data": {
      "image/png": "[encoded data removed]",
      "text/plain": [
       "<Figure size 640x480 with 1 Axes>"
      ]
     },
     "metadata": {},
     "output_type": "display_data"
    }
   ],
   "source": [
    "sns.histplot(df['English_Score'],bins=20,kde=True)"
   ]
  },
  {
   "cell_type": "code",
   "execution_count": 25,
   "id": "db481121-a96a-4255-a887-82505a0e4f29",
   "metadata": {},
   "outputs": [
    {
     "data": {
      "text/plain": [
       "<Axes: xlabel='Science_Score', ylabel='Count'>"
      ]
     },
     "execution_count": 25,
     "metadata": {},
     "output_type": "execute_result"
    },
    {
     "data": {
      "image/png": "[encoded data removed]",
      "text/plain": [
       "<Figure size 640x480 with 1 Axes>"
      ]
     },
     "metadata": {},
     "output_type": "display_data"
    }
   ],
   "source": [
    "sns.histplot(df['Science_Score'],bins=20,kde=True,color=\"red\")"
   ]
  },
  {
   "cell_type": "code",
   "execution_count": 26,
   "id": "150a82f6-ac3f-440d-b23c-01b23dc3064d",
   "metadata": {},
   "outputs": [
    {
     "data": {
      "text/plain": [
       "<Axes: xlabel='Attendance', ylabel='Count'>"
      ]
     },
     "execution_count": 26,
     "metadata": {},
     "output_type": "execute_result"
    },
    {
     "data": {
      "image/png": "[encoded data removed]",
      "text/plain": [
       "<Figure size 640x480 with 1 Axes>"
      ]
     },
     "metadata": {},
     "output_type": "display_data"
    }
   ],
   "source": [
    "sns.histplot(df['Attendance'],bins=20,kde=True,color=\"orange\")"
   ]
  },
  {
   "cell_type": "code",
   "execution_count": 27,
   "id": "b8f7e8c8-fd23-4040-92c3-785a2541e352",
   "metadata": {},
   "outputs": [],
   "source": [
    "from scipy.stats import zscore\n",
    "z_score = df[['Math_Score','English_Score','Science_Score','Attendance']].apply(zscore)"
   ]
  },
  {
   "cell_type": "code",
   "execution_count": 28,
   "id": "96e174ce-afd6-425f-ac1e-b8d3f2b799bb",
   "metadata": {},
   "outputs": [
    {
     "data": {
      "text/html": [
       "<div>\n",
       "<style scoped>\n",
       "    .dataframe tbody tr th:only-of-type {\n",
       "        vertical-align: middle;\n",
       "    }\n",
       "\n",
       "    .dataframe tbody tr th {\n",
       "        vertical-align: top;\n",
       "    }\n",
       "\n",
       "    .dataframe thead th {\n",
       "        text-align: right;\n",
       "    }\n",
       "</style>\n",
       "<table border=\"1\" class=\"dataframe\">\n",
       "  <thead>\n",
       "    <tr style=\"text-align: right;\">\n",
       "      <th></th>\n",
       "      <th>Math_Score</th>\n",
       "      <th>English_Score</th>\n",
       "      <th>Science_Score</th>\n",
       "      <th>Attendance</th>\n",
       "    </tr>\n",
       "  </thead>\n",
       "  <tbody>\n",
       "    <tr>\n",
       "      <th>0</th>\n",
       "      <td>0.472457</td>\n",
       "      <td>1.307039</td>\n",
       "      <td>-0.666715</td>\n",
       "      <td>-1.758755</td>\n",
       "    </tr>\n",
       "    <tr>\n",
       "      <th>1</th>\n",
       "      <td>-0.159487</td>\n",
       "      <td>0.839183</td>\n",
       "      <td>-0.144751</td>\n",
       "      <td>-0.778672</td>\n",
       "    </tr>\n",
       "    <tr>\n",
       "      <th>2</th>\n",
       "      <td>0.622710</td>\n",
       "      <td>-0.013310</td>\n",
       "      <td>-0.782035</td>\n",
       "      <td>-0.360617</td>\n",
       "    </tr>\n",
       "    <tr>\n",
       "      <th>3</th>\n",
       "      <td>1.493868</td>\n",
       "      <td>-0.709659</td>\n",
       "      <td>-0.305516</td>\n",
       "      <td>1.792724</td>\n",
       "    </tr>\n",
       "    <tr>\n",
       "      <th>4</th>\n",
       "      <td>-0.254918</td>\n",
       "      <td>0.616047</td>\n",
       "      <td>-1.865184</td>\n",
       "      <td>0.547170</td>\n",
       "    </tr>\n",
       "    <tr>\n",
       "      <th>...</th>\n",
       "      <td>...</td>\n",
       "      <td>...</td>\n",
       "      <td>...</td>\n",
       "      <td>...</td>\n",
       "    </tr>\n",
       "    <tr>\n",
       "      <th>1000</th>\n",
       "      <td>-4.500381</td>\n",
       "      <td>-4.178486</td>\n",
       "      <td>-6.519035</td>\n",
       "      <td>-8.394983</td>\n",
       "    </tr>\n",
       "    <tr>\n",
       "      <th>1001</th>\n",
       "      <td>5.949445</td>\n",
       "      <td>4.444970</td>\n",
       "      <td>5.161366</td>\n",
       "      <td>2.833525</td>\n",
       "    </tr>\n",
       "    <tr>\n",
       "      <th>1002</th>\n",
       "      <td>0.472457</td>\n",
       "      <td>1.307039</td>\n",
       "      <td>-0.666715</td>\n",
       "      <td>-1.758755</td>\n",
       "    </tr>\n",
       "    <tr>\n",
       "      <th>1003</th>\n",
       "      <td>-0.159487</td>\n",
       "      <td>0.839183</td>\n",
       "      <td>-0.144751</td>\n",
       "      <td>-0.778672</td>\n",
       "    </tr>\n",
       "    <tr>\n",
       "      <th>1004</th>\n",
       "      <td>0.622710</td>\n",
       "      <td>-0.013310</td>\n",
       "      <td>-0.782035</td>\n",
       "      <td>-0.360617</td>\n",
       "    </tr>\n",
       "  </tbody>\n",
       "</table>\n",
       "<p>1005 rows × 4 columns</p>\n",
       "</div>"
      ],
      "text/plain": [
       "      Math_Score  English_Score  Science_Score  Attendance\n",
       "0       0.472457       1.307039      -0.666715   -1.758755\n",
       "1      -0.159487       0.839183      -0.144751   -0.778672\n",
       "2       0.622710      -0.013310      -0.782035   -0.360617\n",
       "3       1.493868      -0.709659      -0.305516    1.792724\n",
       "4      -0.254918       0.616047      -1.865184    0.547170\n",
       "...          ...            ...            ...         ...\n",
       "1000   -4.500381      -4.178486      -6.519035   -8.394983\n",
       "1001    5.949445       4.444970       5.161366    2.833525\n",
       "1002    0.472457       1.307039      -0.666715   -1.758755\n",
       "1003   -0.159487       0.839183      -0.144751   -0.778672\n",
       "1004    0.622710      -0.013310      -0.782035   -0.360617\n",
       "\n",
       "[1005 rows x 4 columns]"
      ]
     },
     "execution_count": 28,
     "metadata": {},
     "output_type": "execute_result"
    }
   ],
   "source": [
    "z_score"
   ]
  },
  {
   "cell_type": "code",
   "execution_count": 29,
   "id": "9bb25b42-3ecc-40c4-bbdf-fe9e96ca1aee",
   "metadata": {},
   "outputs": [],
   "source": [
    "outliers = (z_score < -3) | (z_score >3)#zscore -3 to 3"
   ]
  },
  {
   "cell_type": "code",
   "execution_count": 30,
   "id": "693a0a22-2972-4787-a3ec-c84f669831c8",
   "metadata": {},
   "outputs": [
    {
     "data": {
      "text/html": [
       "<div>\n",
       "<style scoped>\n",
       "    .dataframe tbody tr th:only-of-type {\n",
       "        vertical-align: middle;\n",
       "    }\n",
       "\n",
       "    .dataframe tbody tr th {\n",
       "        vertical-align: top;\n",
       "    }\n",
       "\n",
       "    .dataframe thead th {\n",
       "        text-align: right;\n",
       "    }\n",
       "</style>\n",
       "<table border=\"1\" class=\"dataframe\">\n",
       "  <thead>\n",
       "    <tr style=\"text-align: right;\">\n",
       "      <th></th>\n",
       "      <th>Math_Score</th>\n",
       "      <th>English_Score</th>\n",
       "      <th>Science_Score</th>\n",
       "      <th>Attendance</th>\n",
       "    </tr>\n",
       "  </thead>\n",
       "  <tbody>\n",
       "    <tr>\n",
       "      <th>0</th>\n",
       "      <td>False</td>\n",
       "      <td>False</td>\n",
       "      <td>False</td>\n",
       "      <td>False</td>\n",
       "    </tr>\n",
       "    <tr>\n",
       "      <th>1</th>\n",
       "      <td>False</td>\n",
       "      <td>False</td>\n",
       "      <td>False</td>\n",
       "      <td>False</td>\n",
       "    </tr>\n",
       "    <tr>\n",
       "      <th>2</th>\n",
       "      <td>False</td>\n",
       "      <td>False</td>\n",
       "      <td>False</td>\n",
       "      <td>False</td>\n",
       "    </tr>\n",
       "    <tr>\n",
       "      <th>3</th>\n",
       "      <td>False</td>\n",
       "      <td>False</td>\n",
       "      <td>False</td>\n",
       "      <td>False</td>\n",
       "    </tr>\n",
       "    <tr>\n",
       "      <th>4</th>\n",
       "      <td>False</td>\n",
       "      <td>False</td>\n",
       "      <td>False</td>\n",
       "      <td>False</td>\n",
       "    </tr>\n",
       "    <tr>\n",
       "      <th>...</th>\n",
       "      <td>...</td>\n",
       "      <td>...</td>\n",
       "      <td>...</td>\n",
       "      <td>...</td>\n",
       "    </tr>\n",
       "    <tr>\n",
       "      <th>1000</th>\n",
       "      <td>True</td>\n",
       "      <td>True</td>\n",
       "      <td>True</td>\n",
       "      <td>True</td>\n",
       "    </tr>\n",
       "    <tr>\n",
       "      <th>1001</th>\n",
       "      <td>True</td>\n",
       "      <td>True</td>\n",
       "      <td>True</td>\n",
       "      <td>False</td>\n",
       "    </tr>\n",
       "    <tr>\n",
       "      <th>1002</th>\n",
       "      <td>False</td>\n",
       "      <td>False</td>\n",
       "      <td>False</td>\n",
       "      <td>False</td>\n",
       "    </tr>\n",
       "    <tr>\n",
       "      <th>1003</th>\n",
       "      <td>False</td>\n",
       "      <td>False</td>\n",
       "      <td>False</td>\n",
       "      <td>False</td>\n",
       "    </tr>\n",
       "    <tr>\n",
       "      <th>1004</th>\n",
       "      <td>False</td>\n",
       "      <td>False</td>\n",
       "      <td>False</td>\n",
       "      <td>False</td>\n",
       "    </tr>\n",
       "  </tbody>\n",
       "</table>\n",
       "<p>1005 rows × 4 columns</p>\n",
       "</div>"
      ],
      "text/plain": [
       "      Math_Score  English_Score  Science_Score  Attendance\n",
       "0          False          False          False       False\n",
       "1          False          False          False       False\n",
       "2          False          False          False       False\n",
       "3          False          False          False       False\n",
       "4          False          False          False       False\n",
       "...          ...            ...            ...         ...\n",
       "1000        True           True           True        True\n",
       "1001        True           True           True       False\n",
       "1002       False          False          False       False\n",
       "1003       False          False          False       False\n",
       "1004       False          False          False       False\n",
       "\n",
       "[1005 rows x 4 columns]"
      ]
     },
     "execution_count": 30,
     "metadata": {},
     "output_type": "execute_result"
    }
   ],
   "source": [
    "outliers"
   ]
  },
  {
   "cell_type": "code",
   "execution_count": 31,
   "id": "9623089d-808b-44e5-a52e-5ed51183530f",
   "metadata": {},
   "outputs": [
    {
     "data": {
      "text/plain": [
       "Math_Score       5\n",
       "English_Score    4\n",
       "Science_Score    4\n",
       "Attendance       2\n",
       "dtype: int64"
      ]
     },
     "execution_count": 31,
     "metadata": {},
     "output_type": "execute_result"
    }
   ],
   "source": [
    "total = outliers.sum()\n",
    "total"
   ]
  },
  {
   "cell_type": "code",
   "execution_count": 32,
   "id": "fe0f33ce-4dc7-4125-b2ab-fbc05004b01e",
   "metadata": {},
   "outputs": [],
   "source": [
    "import pandas as pd"
   ]
  },
  {
   "cell_type": "code",
   "execution_count": 33,
   "id": "464a2266-0c3c-4040-8f1d-bfe31dbca3a3",
   "metadata": {},
   "outputs": [],
   "source": [
    "df = pd.read_csv(\"mark_sheet_dataset.csv\")"
   ]
  },
  {
   "cell_type": "code",
   "execution_count": 34,
   "id": "e0b2e22d-b9e4-4e39-b983-e07d8598cd1b",
   "metadata": {},
   "outputs": [
    {
     "data": {
      "text/html": [
       "<div>\n",
       "<style scoped>\n",
       "    .dataframe tbody tr th:only-of-type {\n",
       "        vertical-align: middle;\n",
       "    }\n",
       "\n",
       "    .dataframe tbody tr th {\n",
       "        vertical-align: top;\n",
       "    }\n",
       "\n",
       "    .dataframe thead th {\n",
       "        text-align: right;\n",
       "    }\n",
       "</style>\n",
       "<table border=\"1\" class=\"dataframe\">\n",
       "  <thead>\n",
       "    <tr style=\"text-align: right;\">\n",
       "      <th></th>\n",
       "      <th>Student_ID</th>\n",
       "      <th>Gender</th>\n",
       "      <th>Math_Score</th>\n",
       "      <th>English_Score</th>\n",
       "      <th>Science_Score</th>\n",
       "      <th>Attendance</th>\n",
       "    </tr>\n",
       "  </thead>\n",
       "  <tbody>\n",
       "    <tr>\n",
       "      <th>0</th>\n",
       "      <td>S1001</td>\n",
       "      <td>Female</td>\n",
       "      <td>79.967142</td>\n",
       "      <td>86.792265</td>\n",
       "      <td>72.598574</td>\n",
       "      <td>75.460962</td>\n",
       "    </tr>\n",
       "    <tr>\n",
       "      <th>1</th>\n",
       "      <td>S1002</td>\n",
       "      <td>Male</td>\n",
       "      <td>73.617357</td>\n",
       "      <td>81.095604</td>\n",
       "      <td>76.843851</td>\n",
       "      <td>80.698075</td>\n",
       "    </tr>\n",
       "    <tr>\n",
       "      <th>2</th>\n",
       "      <td>S1003</td>\n",
       "      <td>Female</td>\n",
       "      <td>81.476885</td>\n",
       "      <td>70.715564</td>\n",
       "      <td>71.660641</td>\n",
       "      <td>82.931972</td>\n",
       "    </tr>\n",
       "    <tr>\n",
       "      <th>3</th>\n",
       "      <td>S1004</td>\n",
       "      <td>Female</td>\n",
       "      <td>90.230299</td>\n",
       "      <td>62.236759</td>\n",
       "      <td>75.536308</td>\n",
       "      <td>94.438438</td>\n",
       "    </tr>\n",
       "    <tr>\n",
       "      <th>4</th>\n",
       "      <td>S1005</td>\n",
       "      <td>Female</td>\n",
       "      <td>72.658466</td>\n",
       "      <td>78.378680</td>\n",
       "      <td>62.851083</td>\n",
       "      <td>87.782766</td>\n",
       "    </tr>\n",
       "    <tr>\n",
       "      <th>...</th>\n",
       "      <td>...</td>\n",
       "      <td>...</td>\n",
       "      <td>...</td>\n",
       "      <td>...</td>\n",
       "      <td>...</td>\n",
       "      <td>...</td>\n",
       "    </tr>\n",
       "    <tr>\n",
       "      <th>1000</th>\n",
       "      <td>S2001</td>\n",
       "      <td>Male</td>\n",
       "      <td>30.000000</td>\n",
       "      <td>20.000000</td>\n",
       "      <td>25.000000</td>\n",
       "      <td>40.000000</td>\n",
       "    </tr>\n",
       "    <tr>\n",
       "      <th>1001</th>\n",
       "      <td>S2002</td>\n",
       "      <td>Male</td>\n",
       "      <td>135.000000</td>\n",
       "      <td>125.000000</td>\n",
       "      <td>120.000000</td>\n",
       "      <td>100.000000</td>\n",
       "    </tr>\n",
       "    <tr>\n",
       "      <th>1002</th>\n",
       "      <td>S1001</td>\n",
       "      <td>Female</td>\n",
       "      <td>79.967142</td>\n",
       "      <td>86.792265</td>\n",
       "      <td>72.598574</td>\n",
       "      <td>75.460962</td>\n",
       "    </tr>\n",
       "    <tr>\n",
       "      <th>1003</th>\n",
       "      <td>S1002</td>\n",
       "      <td>Male</td>\n",
       "      <td>73.617357</td>\n",
       "      <td>81.095604</td>\n",
       "      <td>76.843851</td>\n",
       "      <td>80.698075</td>\n",
       "    </tr>\n",
       "    <tr>\n",
       "      <th>1004</th>\n",
       "      <td>S1003</td>\n",
       "      <td>Female</td>\n",
       "      <td>81.476885</td>\n",
       "      <td>70.715564</td>\n",
       "      <td>71.660641</td>\n",
       "      <td>82.931972</td>\n",
       "    </tr>\n",
       "  </tbody>\n",
       "</table>\n",
       "<p>1005 rows × 6 columns</p>\n",
       "</div>"
      ],
      "text/plain": [
       "     Student_ID  Gender  Math_Score  English_Score  Science_Score  Attendance\n",
       "0         S1001  Female   79.967142      86.792265      72.598574   75.460962\n",
       "1         S1002    Male   73.617357      81.095604      76.843851   80.698075\n",
       "2         S1003  Female   81.476885      70.715564      71.660641   82.931972\n",
       "3         S1004  Female   90.230299      62.236759      75.536308   94.438438\n",
       "4         S1005  Female   72.658466      78.378680      62.851083   87.782766\n",
       "...         ...     ...         ...            ...            ...         ...\n",
       "1000      S2001    Male   30.000000      20.000000      25.000000   40.000000\n",
       "1001      S2002    Male  135.000000     125.000000     120.000000  100.000000\n",
       "1002      S1001  Female   79.967142      86.792265      72.598574   75.460962\n",
       "1003      S1002    Male   73.617357      81.095604      76.843851   80.698075\n",
       "1004      S1003  Female   81.476885      70.715564      71.660641   82.931972\n",
       "\n",
       "[1005 rows x 6 columns]"
      ]
     },
     "execution_count": 34,
     "metadata": {},
     "output_type": "execute_result"
    }
   ],
   "source": [
    "df"
   ]
  },
  {
   "cell_type": "code",
   "execution_count": 35,
   "id": "3f91c144-2900-4abc-a1a9-bbb3065c64df",
   "metadata": {},
   "outputs": [
    {
     "data": {
      "text/plain": [
       "Index(['Student_ID', 'Gender', 'Math_Score', 'English_Score', 'Science_Score',\n",
       "       'Attendance'],\n",
       "      dtype='object')"
      ]
     },
     "execution_count": 35,
     "metadata": {},
     "output_type": "execute_result"
    }
   ],
   "source": [
    "df.columns"
   ]
  },
  {
   "cell_type": "code",
   "execution_count": 36,
   "id": "39b74800-52d5-4d79-aac0-5e133c132f89",
   "metadata": {},
   "outputs": [],
   "source": [
    "numeric_cols = ['Math_Score', 'English_Score', 'Science_Score','Attendance']\n",
    "original_stats = {}"
   ]
  },
  {
   "cell_type": "code",
   "execution_count": 37,
   "id": "e6c626f0-e013-41bf-9cf9-492e249ba914",
   "metadata": {},
   "outputs": [
    {
     "name": "stdout",
     "output_type": "stream",
     "text": [
      "clipped values in Math_Score\n",
      "clipped values in English_Score\n",
      "clipped values in Science_Score\n",
      "clipped values in Attendance\n"
     ]
    }
   ],
   "source": [
    "for col in numeric_cols:\n",
    "    mean_val = df[col].mean()\n",
    "    df[col] =df[col].fillna(mean_val)\n",
    "    std_val = df[col].std()\n",
    "    original_stats[col] = (mean_val,std_val)\n",
    "    df[col] = df[col].clip(lower = mean_val - 3 * std_val , upper = mean_val + 3 * std_val)\n",
    "    print(f\"clipped values in {col}\")"
   ]
  },
  {
   "cell_type": "code",
   "execution_count": 38,
   "id": "69cf1bcb-d5f5-4acc-8f03-f6c75966bd67",
   "metadata": {},
   "outputs": [
    {
     "name": "stdout",
     "output_type": "stream",
     "text": [
      "outliers is 0 in Math_Score\n",
      "outliers is 0 in English_Score\n",
      "outliers is 0 in Science_Score\n",
      "outliers is 0 in Attendance\n"
     ]
    }
   ],
   "source": [
    "for col in numeric_cols:\n",
    "    mean_val = df[col].mean()\n",
    "    std_val = df[col].std()\n",
    "    mean_val , std_val = original_stats[col]\n",
    "    lower_bound = mean_val - 3 * std_val\n",
    "    upper_bound = mean_val + 3 * std_val\n",
    "    outliers_remaining = df[(df[col] < lower_bound) | (df[col] > upper_bound)].shape[0]\n",
    "    if outliers_remaining == 0:\n",
    "       print(f\"outliers is {outliers_remaining} in {col}\")\n",
    "    else:\n",
    "        print(\"outliers are there\")"
   ]
  },
  {
   "cell_type": "code",
   "execution_count": 39,
   "id": "304055ec-c132-46ac-bf78-735bbba48109",
   "metadata": {},
   "outputs": [
    {
     "name": "stdout",
     "output_type": "stream",
     "text": [
      "outliers is 0 in Math_Score\n",
      "outliers is 0 in English_Score\n",
      "outliers is 0 in Science_Score\n",
      "outliers is 0 in Attendance\n"
     ]
    }
   ],
   "source": [
    "for col in numeric_cols:\n",
    "    mean_val , std_val = original_stats[col]\n",
    "    lower_bound = mean_val - 3 * std_val\n",
    "    upper_bound = mean_val + 3 * std_val\n",
    "    outliers_remaining = df[(df[col] < lower_bound) | (df[col] > upper_bound)].shape[0]\n",
    "    print(f\"outliers is {outliers_remaining} in {col}\")"
   ]
  },
  {
   "cell_type": "code",
   "execution_count": 40,
   "id": "0e3da1dc-c83e-455d-94db-8a09146d65ce",
   "metadata": {},
   "outputs": [],
   "source": [
    "df = pd.read_csv(\"mark_sheet_dataset.csv\")"
   ]
  },
  {
   "cell_type": "code",
   "execution_count": 41,
   "id": "2e4f8edf-17a0-4715-8170-86f1bce9d878",
   "metadata": {},
   "outputs": [
    {
     "data": {
      "text/html": [
       "<div>\n",
       "<style scoped>\n",
       "    .dataframe tbody tr th:only-of-type {\n",
       "        vertical-align: middle;\n",
       "    }\n",
       "\n",
       "    .dataframe tbody tr th {\n",
       "        vertical-align: top;\n",
       "    }\n",
       "\n",
       "    .dataframe thead th {\n",
       "        text-align: right;\n",
       "    }\n",
       "</style>\n",
       "<table border=\"1\" class=\"dataframe\">\n",
       "  <thead>\n",
       "    <tr style=\"text-align: right;\">\n",
       "      <th></th>\n",
       "      <th>Student_ID</th>\n",
       "      <th>Gender</th>\n",
       "      <th>Math_Score</th>\n",
       "      <th>English_Score</th>\n",
       "      <th>Science_Score</th>\n",
       "      <th>Attendance</th>\n",
       "    </tr>\n",
       "  </thead>\n",
       "  <tbody>\n",
       "    <tr>\n",
       "      <th>5</th>\n",
       "      <td>S1006</td>\n",
       "      <td>Male</td>\n",
       "      <td>NaN</td>\n",
       "      <td>74.721825</td>\n",
       "      <td>79.706350</td>\n",
       "      <td>78.322592</td>\n",
       "    </tr>\n",
       "    <tr>\n",
       "      <th>15</th>\n",
       "      <td>S1016</td>\n",
       "      <td>Female</td>\n",
       "      <td>69.377125</td>\n",
       "      <td>NaN</td>\n",
       "      <td>76.449391</td>\n",
       "      <td>90.191894</td>\n",
       "    </tr>\n",
       "    <tr>\n",
       "      <th>25</th>\n",
       "      <td>S1026</td>\n",
       "      <td>Female</td>\n",
       "      <td>76.109226</td>\n",
       "      <td>75.235884</td>\n",
       "      <td>NaN</td>\n",
       "      <td>83.057396</td>\n",
       "    </tr>\n",
       "    <tr>\n",
       "      <th>35</th>\n",
       "      <td>S1036</td>\n",
       "      <td>Male</td>\n",
       "      <td>62.791564</td>\n",
       "      <td>88.887841</td>\n",
       "      <td>100.077280</td>\n",
       "      <td>NaN</td>\n",
       "    </tr>\n",
       "  </tbody>\n",
       "</table>\n",
       "</div>"
      ],
      "text/plain": [
       "   Student_ID  Gender  Math_Score  English_Score  Science_Score  Attendance\n",
       "5       S1006    Male         NaN      74.721825      79.706350   78.322592\n",
       "15      S1016  Female   69.377125            NaN      76.449391   90.191894\n",
       "25      S1026  Female   76.109226      75.235884            NaN   83.057396\n",
       "35      S1036    Male   62.791564      88.887841     100.077280         NaN"
      ]
     },
     "execution_count": 41,
     "metadata": {},
     "output_type": "execute_result"
    }
   ],
   "source": [
    "df[df.isnull().any(axis=1)]"
   ]
  },
  {
   "cell_type": "code",
   "execution_count": 42,
   "id": "46edf75c-2ae0-4559-a0f9-bf4521c66a4f",
   "metadata": {},
   "outputs": [
    {
     "data": {
      "text/html": [
       "<div>\n",
       "<style scoped>\n",
       "    .dataframe tbody tr th:only-of-type {\n",
       "        vertical-align: middle;\n",
       "    }\n",
       "\n",
       "    .dataframe tbody tr th {\n",
       "        vertical-align: top;\n",
       "    }\n",
       "\n",
       "    .dataframe thead th {\n",
       "        text-align: right;\n",
       "    }\n",
       "</style>\n",
       "<table border=\"1\" class=\"dataframe\">\n",
       "  <thead>\n",
       "    <tr style=\"text-align: right;\">\n",
       "      <th></th>\n",
       "      <th>Student_ID</th>\n",
       "      <th>Gender</th>\n",
       "      <th>Math_Score</th>\n",
       "      <th>English_Score</th>\n",
       "      <th>Science_Score</th>\n",
       "      <th>Attendance</th>\n",
       "    </tr>\n",
       "  </thead>\n",
       "  <tbody>\n",
       "    <tr>\n",
       "      <th>5</th>\n",
       "      <td>S1006</td>\n",
       "      <td>Male</td>\n",
       "      <td>NaN</td>\n",
       "      <td>74.721825</td>\n",
       "      <td>79.70635</td>\n",
       "      <td>78.322592</td>\n",
       "    </tr>\n",
       "  </tbody>\n",
       "</table>\n",
       "</div>"
      ],
      "text/plain": [
       "  Student_ID Gender  Math_Score  English_Score  Science_Score  Attendance\n",
       "5      S1006   Male         NaN      74.721825       79.70635   78.322592"
      ]
     },
     "execution_count": 42,
     "metadata": {},
     "output_type": "execute_result"
    }
   ],
   "source": [
    "df[df['Math_Score'].isnull()]"
   ]
  },
  {
   "cell_type": "code",
   "execution_count": 43,
   "id": "7cd27391-a549-4370-badf-467798b8231a",
   "metadata": {},
   "outputs": [
    {
     "data": {
      "text/html": [
       "<div>\n",
       "<style scoped>\n",
       "    .dataframe tbody tr th:only-of-type {\n",
       "        vertical-align: middle;\n",
       "    }\n",
       "\n",
       "    .dataframe tbody tr th {\n",
       "        vertical-align: top;\n",
       "    }\n",
       "\n",
       "    .dataframe thead th {\n",
       "        text-align: right;\n",
       "    }\n",
       "</style>\n",
       "<table border=\"1\" class=\"dataframe\">\n",
       "  <thead>\n",
       "    <tr style=\"text-align: right;\">\n",
       "      <th></th>\n",
       "      <th>Student_ID</th>\n",
       "      <th>Gender</th>\n",
       "      <th>Math_Score</th>\n",
       "      <th>English_Score</th>\n",
       "      <th>Science_Score</th>\n",
       "      <th>Attendance</th>\n",
       "    </tr>\n",
       "  </thead>\n",
       "  <tbody>\n",
       "    <tr>\n",
       "      <th>15</th>\n",
       "      <td>S1016</td>\n",
       "      <td>Female</td>\n",
       "      <td>69.377125</td>\n",
       "      <td>NaN</td>\n",
       "      <td>76.449391</td>\n",
       "      <td>90.191894</td>\n",
       "    </tr>\n",
       "  </tbody>\n",
       "</table>\n",
       "</div>"
      ],
      "text/plain": [
       "   Student_ID  Gender  Math_Score  English_Score  Science_Score  Attendance\n",
       "15      S1016  Female   69.377125            NaN      76.449391   90.191894"
      ]
     },
     "execution_count": 43,
     "metadata": {},
     "output_type": "execute_result"
    }
   ],
   "source": [
    "df[df['English_Score'].isnull()]"
   ]
  },
  {
   "cell_type": "code",
   "execution_count": 44,
   "id": "566da465-f1aa-4671-a1da-7f0b25bafbea",
   "metadata": {},
   "outputs": [
    {
     "data": {
      "text/html": [
       "<div>\n",
       "<style scoped>\n",
       "    .dataframe tbody tr th:only-of-type {\n",
       "        vertical-align: middle;\n",
       "    }\n",
       "\n",
       "    .dataframe tbody tr th {\n",
       "        vertical-align: top;\n",
       "    }\n",
       "\n",
       "    .dataframe thead th {\n",
       "        text-align: right;\n",
       "    }\n",
       "</style>\n",
       "<table border=\"1\" class=\"dataframe\">\n",
       "  <thead>\n",
       "    <tr style=\"text-align: right;\">\n",
       "      <th></th>\n",
       "      <th>Student_ID</th>\n",
       "      <th>Gender</th>\n",
       "      <th>Math_Score</th>\n",
       "      <th>English_Score</th>\n",
       "      <th>Science_Score</th>\n",
       "      <th>Attendance</th>\n",
       "    </tr>\n",
       "  </thead>\n",
       "  <tbody>\n",
       "    <tr>\n",
       "      <th>25</th>\n",
       "      <td>S1026</td>\n",
       "      <td>Female</td>\n",
       "      <td>76.109226</td>\n",
       "      <td>75.235884</td>\n",
       "      <td>NaN</td>\n",
       "      <td>83.057396</td>\n",
       "    </tr>\n",
       "  </tbody>\n",
       "</table>\n",
       "</div>"
      ],
      "text/plain": [
       "   Student_ID  Gender  Math_Score  English_Score  Science_Score  Attendance\n",
       "25      S1026  Female   76.109226      75.235884            NaN   83.057396"
      ]
     },
     "execution_count": 44,
     "metadata": {},
     "output_type": "execute_result"
    }
   ],
   "source": [
    "df[df['Science_Score'].isnull()]"
   ]
  },
  {
   "cell_type": "code",
   "execution_count": 45,
   "id": "e0652f80-e7e4-4e69-8024-69d3b63f3182",
   "metadata": {},
   "outputs": [
    {
     "data": {
      "text/html": [
       "<div>\n",
       "<style scoped>\n",
       "    .dataframe tbody tr th:only-of-type {\n",
       "        vertical-align: middle;\n",
       "    }\n",
       "\n",
       "    .dataframe tbody tr th {\n",
       "        vertical-align: top;\n",
       "    }\n",
       "\n",
       "    .dataframe thead th {\n",
       "        text-align: right;\n",
       "    }\n",
       "</style>\n",
       "<table border=\"1\" class=\"dataframe\">\n",
       "  <thead>\n",
       "    <tr style=\"text-align: right;\">\n",
       "      <th></th>\n",
       "      <th>Student_ID</th>\n",
       "      <th>Gender</th>\n",
       "      <th>Math_Score</th>\n",
       "      <th>English_Score</th>\n",
       "      <th>Science_Score</th>\n",
       "      <th>Attendance</th>\n",
       "    </tr>\n",
       "  </thead>\n",
       "  <tbody>\n",
       "    <tr>\n",
       "      <th>35</th>\n",
       "      <td>S1036</td>\n",
       "      <td>Male</td>\n",
       "      <td>62.791564</td>\n",
       "      <td>88.887841</td>\n",
       "      <td>100.07728</td>\n",
       "      <td>NaN</td>\n",
       "    </tr>\n",
       "  </tbody>\n",
       "</table>\n",
       "</div>"
      ],
      "text/plain": [
       "   Student_ID Gender  Math_Score  English_Score  Science_Score  Attendance\n",
       "35      S1036   Male   62.791564      88.887841      100.07728         NaN"
      ]
     },
     "execution_count": 45,
     "metadata": {},
     "output_type": "execute_result"
    }
   ],
   "source": [
    "df[df['Attendance'].isnull()]"
   ]
  },
  {
   "cell_type": "code",
   "execution_count": 46,
   "id": "40919494-b9d5-408a-a808-17b2ae80e266",
   "metadata": {},
   "outputs": [],
   "source": [
    "missing_indices = df[df.isnull().any(axis=1)].index"
   ]
  },
  {
   "cell_type": "code",
   "execution_count": 47,
   "id": "257dbda1-5cd9-436c-b47e-3d1bb962642a",
   "metadata": {},
   "outputs": [
    {
     "data": {
      "text/plain": [
       "Index([5, 15, 25, 35], dtype='int64')"
      ]
     },
     "execution_count": 47,
     "metadata": {},
     "output_type": "execute_result"
    }
   ],
   "source": [
    "missing_indices"
   ]
  },
  {
   "cell_type": "code",
   "execution_count": 48,
   "id": "def7bcf0-adbe-4ae7-ace7-5c94cf6de438",
   "metadata": {},
   "outputs": [],
   "source": [
    "import seaborn as sns\n",
    "import matplotlib.pyplot as plt"
   ]
  },
  {
   "cell_type": "code",
   "execution_count": 49,
   "id": "d627ae98-ed91-4154-8553-efc40c393719",
   "metadata": {},
   "outputs": [
    {
     "data": {
      "text/plain": [
       "<Figure size 1200x1400 with 0 Axes>"
      ]
     },
     "metadata": {},
     "output_type": "display_data"
    },
    {
     "data": {
      "image/png": "[encoded data removed]",
      "text/plain": [
       "<Figure size 640x480 with 1 Axes>"
      ]
     },
     "metadata": {},
     "output_type": "display_data"
    }
   ],
   "source": [
    "colors=[\"pink\",\"blue\",\"black\",\"orange\"]\n",
    "plt.figure(figsize=(12,14 ))\n",
    "avg_scores_by_gender = df.groupby(\"Gender\")[[\"Math_Score\", \"English_Score\", \"Science_Score\",'Attendance']].mean().reset_index()\n",
    "avg_scores_by_gender.set_index(\"Gender\").plot(kind='bar',color=colors)\n",
    "plt.title(\"Average Subject Scores by Gender\")\n",
    "plt.ylabel(\"Average Score\")\n",
    "plt.tight_layout()                                                                                                                                                               \n",
    "plt.show()"
   ]
  },
  {
   "cell_type": "code",
   "execution_count": 50,
   "id": "09310345-b280-4acf-9bd9-37b88819b602",
   "metadata": {},
   "outputs": [
    {
     "data": {
      "text/html": [
       "<div>\n",
       "<style scoped>\n",
       "    .dataframe tbody tr th:only-of-type {\n",
       "        vertical-align: middle;\n",
       "    }\n",
       "\n",
       "    .dataframe tbody tr th {\n",
       "        vertical-align: top;\n",
       "    }\n",
       "\n",
       "    .dataframe thead th {\n",
       "        text-align: right;\n",
       "    }\n",
       "</style>\n",
       "<table border=\"1\" class=\"dataframe\">\n",
       "  <thead>\n",
       "    <tr style=\"text-align: right;\">\n",
       "      <th></th>\n",
       "      <th>Gender</th>\n",
       "      <th>Math_Score</th>\n",
       "      <th>English_Score</th>\n",
       "      <th>Science_Score</th>\n",
       "      <th>Attendance</th>\n",
       "    </tr>\n",
       "  </thead>\n",
       "  <tbody>\n",
       "    <tr>\n",
       "      <th>0</th>\n",
       "      <td>Female</td>\n",
       "      <td>75.079349</td>\n",
       "      <td>70.084252</td>\n",
       "      <td>77.927098</td>\n",
       "      <td>84.929252</td>\n",
       "    </tr>\n",
       "    <tr>\n",
       "      <th>1</th>\n",
       "      <td>Male</td>\n",
       "      <td>75.362596</td>\n",
       "      <td>71.680793</td>\n",
       "      <td>78.116476</td>\n",
       "      <td>84.787267</td>\n",
       "    </tr>\n",
       "  </tbody>\n",
       "</table>\n",
       "</div>"
      ],
      "text/plain": [
       "   Gender  Math_Score  English_Score  Science_Score  Attendance\n",
       "0  Female   75.079349      70.084252      77.927098   84.929252\n",
       "1    Male   75.362596      71.680793      78.116476   84.787267"
      ]
     },
     "execution_count": 50,
     "metadata": {},
     "output_type": "execute_result"
    }
   ],
   "source": [
    "avg_scores_by_gender"
   ]
  },
  {
   "cell_type": "code",
   "execution_count": 51,
   "id": "f2dadbed-e619-414a-a82d-1160352b7cf6",
   "metadata": {},
   "outputs": [
    {
     "data": {
      "image/png": "[encoded data removed]",
      "text/plain": [
       "<Figure size 800x500 with 1 Axes>"
      ]
     },
     "metadata": {},
     "output_type": "display_data"
    }
   ],
   "source": [
    "plt.figure(figsize=(8, 5))\n",
    "sns.boxplot(data=df)\n",
    "plt.title(\"outliers of my dataset\")\n",
    "plt.show()"
   ]
  },
  {
   "cell_type": "code",
   "execution_count": 52,
   "id": "f320c9fa-8f84-4a6a-8983-5c998a7c4856",
   "metadata": {},
   "outputs": [
    {
     "data": {
      "image/png": "[encoded data removed]",
      "text/plain": [
       "<Figure size 800x500 with 1 Axes>"
      ]
     },
     "metadata": {},
     "output_type": "display_data"
    }
   ],
   "source": [
    "plt.figure(figsize=(8, 5))\n",
    "sns.scatterplot(data=df, x='Math_Score', y='Science_Score', hue='Gender')\n",
    "plt.title(\"Math Score vs Science Score\")\n",
    "plt.show()"
   ]
  },
  {
   "cell_type": "code",
   "execution_count": 53,
   "id": "a29b3389-787f-4c68-af03-ccbbfdfb1a93",
   "metadata": {},
   "outputs": [
    {
     "data": {
      "image/png": "[encoded data removed]",
      "text/plain": [
       "<Figure size 800x500 with 1 Axes>"
      ]
     },
     "metadata": {},
     "output_type": "display_data"
    }
   ],
   "source": [
    "plt.figure(figsize=(8, 5))\n",
    "df_sorted = df.sort_values(by='Attendance')\n",
    "plt.plot(df_sorted['Attendance'].values, marker='x', linestyle='--')\n",
    "plt.title(\"Sorted Attendance Trend\")\n",
    "plt.xlabel(\"Student Index (Sorted)\")\n",
    "plt.ylabel(\"Attendance\")\n",
    "plt.show()"
   ]
  },
  {
   "cell_type": "code",
   "execution_count": 54,
   "id": "05741ef7-25a8-4ab0-a7aa-b628d2d16734",
   "metadata": {},
   "outputs": [],
   "source": [
    "df.drop('Gender',axis=1,inplace=True)"
   ]
  },
  {
   "cell_type": "code",
   "execution_count": 55,
   "id": "26b94f34-b48f-4b49-aa54-08680e46d0c5",
   "metadata": {},
   "outputs": [],
   "source": [
    "df.drop('Student_ID',axis=1,inplace=True)"
   ]
  },
  {
   "cell_type": "code",
   "execution_count": 56,
   "id": "14af013a-a13d-41ae-b162-0682fc24c776",
   "metadata": {},
   "outputs": [
    {
     "data": {
      "image/png": "[encoded data removed]",
      "text/plain": [
       "<Figure size 640x480 with 2 Axes>"
      ]
     },
     "metadata": {},
     "output_type": "display_data"
    }
   ],
   "source": [
    "import matplotlib.pyplot as plt\n",
    "corr_matrix = df.corr()\n",
    "sns.heatmap(corr_matrix, annot=True,cmap='Pastel1')\n",
    "plt.title(\"Correletion Matrix\")\n",
    "plt.show()"
   ]
  },
  {
   "cell_type": "code",
   "execution_count": 57,
   "id": "8314e2a7-f139-4106-9683-4eb43b90f94d",
   "metadata": {},
   "outputs": [
    {
     "data": {
      "text/html": [
       "<div>\n",
       "<style scoped>\n",
       "    .dataframe tbody tr th:only-of-type {\n",
       "        vertical-align: middle;\n",
       "    }\n",
       "\n",
       "    .dataframe tbody tr th {\n",
       "        vertical-align: top;\n",
       "    }\n",
       "\n",
       "    .dataframe thead th {\n",
       "        text-align: right;\n",
       "    }\n",
       "</style>\n",
       "<table border=\"1\" class=\"dataframe\">\n",
       "  <thead>\n",
       "    <tr style=\"text-align: right;\">\n",
       "      <th></th>\n",
       "      <th>Math_Score</th>\n",
       "      <th>English_Score</th>\n",
       "      <th>Science_Score</th>\n",
       "      <th>Attendance</th>\n",
       "    </tr>\n",
       "  </thead>\n",
       "  <tbody>\n",
       "    <tr>\n",
       "      <th>Math_Score</th>\n",
       "      <td>1.000000</td>\n",
       "      <td>0.007185</td>\n",
       "      <td>0.079739</td>\n",
       "      <td>0.041312</td>\n",
       "    </tr>\n",
       "    <tr>\n",
       "      <th>English_Score</th>\n",
       "      <td>0.007185</td>\n",
       "      <td>1.000000</td>\n",
       "      <td>0.038325</td>\n",
       "      <td>-0.007676</td>\n",
       "    </tr>\n",
       "    <tr>\n",
       "      <th>Science_Score</th>\n",
       "      <td>0.079739</td>\n",
       "      <td>0.038325</td>\n",
       "      <td>1.000000</td>\n",
       "      <td>0.089739</td>\n",
       "    </tr>\n",
       "    <tr>\n",
       "      <th>Attendance</th>\n",
       "      <td>0.041312</td>\n",
       "      <td>-0.007676</td>\n",
       "      <td>0.089739</td>\n",
       "      <td>1.000000</td>\n",
       "    </tr>\n",
       "  </tbody>\n",
       "</table>\n",
       "</div>"
      ],
      "text/plain": [
       "               Math_Score  English_Score  Science_Score  Attendance\n",
       "Math_Score       1.000000       0.007185       0.079739    0.041312\n",
       "English_Score    0.007185       1.000000       0.038325   -0.007676\n",
       "Science_Score    0.079739       0.038325       1.000000    0.089739\n",
       "Attendance       0.041312      -0.007676       0.089739    1.000000"
      ]
     },
     "execution_count": 57,
     "metadata": {},
     "output_type": "execute_result"
    }
   ],
   "source": [
    "corr_matrix"
   ]
  },
  {
   "cell_type": "code",
   "execution_count": 58,
   "id": "29c5b2d2-d770-490b-a0a9-c4ed1ec5b5a3",
   "metadata": {},
   "outputs": [],
   "source": [
    "df.to_csv('marksheet_clean.csv')"
   ]
  },
  {
   "cell_type": "code",
   "execution_count": null,
   "id": "8331f266-450a-4de1-ba1b-c1ed9c5aac3c",
   "metadata": {},
   "outputs": [],
   "source": []
  }
 ],
 "metadata": {
  "kernelspec": {
   "display_name": "Python [conda env:base] *",
   "language": "python",
   "name": "conda-base-py"
  },
  "language_info": {
   "codemirror_mode": {
    "name": "ipython",
    "version": 3
   },
   "file_extension": ".py",
   "mimetype": "text/x-python",
   "name": "python",
   "nbconvert_exporter": "python",
   "pygments_lexer": "ipython3",
   "version": "3.12.7"
  }
 },
 "nbformat": 4,
 "nbformat_minor": 5
}
